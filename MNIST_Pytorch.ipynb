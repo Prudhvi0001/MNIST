{
 "cells": [
  {
   "cell_type": "code",
   "execution_count": null,
   "metadata": {},
   "outputs": [],
   "source": [
    "import torch\n",
    "import torch.nn as nn\n",
    "import pandas as pd\n",
    "import numpy as np\n",
    "from sklearn.model_selection import train_test_split,StratifiedKFold\n",
    "from sklearn.metrics import roc_auc_score\n",
    "from sklearn.ensemble import RandomForestClassifier\n",
    "from sklearn.preprocessing import OneHotEncoder"
   ]
  },
  {
   "cell_type": "code",
   "execution_count": null,
   "metadata": {},
   "outputs": [],
   "source": [
    "# Load Data and split into Train and Test\n",
    "from sklearn.datasets import fetch_openml\n",
    "mnist = fetch_openml('mnist_784')\n",
    "Data = pd.DataFrame(data = mnist['data'], columns = mnist['feature_names'])\n",
    "Target = pd.DataFrame(data = mnist['target'], columns = ['class'])\n",
    "Train_Data = Data[:60000]\n",
    "Test_Data = Data[60001:]\n",
    "Target_train = Target[:60000]\n",
    "Target_test = Target[60001:]"
   ]
  },
  {
   "cell_type": "code",
   "execution_count": null,
   "metadata": {},
   "outputs": [],
   "source": [
    "# changing data inyo tensor objects:\n",
    "Train_Data = np.array(Train_Data)\n",
    "Test_Data = np.array(Test_Data)\n",
    "Train_Data = Train_Data.astype(dtype = 'float64')\n",
    "Test_Data = Test_Data.astype(dtype = 'float64')\n",
    "Train_Data = torch.from_numpy(Train_Data)\n",
    "Test_Data = torch.from_numpy(Test_Data)\n",
    "\n",
    "Target_train = np.array(Target_train)\n",
    "Target_test = np.array(Target_test)\n",
    "Target_train = Target_train.astype(int)\n",
    "Target_test = Target_test.astype(int)\n",
    "Target_train = torch.from_numpy(Target_train)\n",
    "Target_test = torch.from_numpy(Target_test)\n",
    "\n",
    "# One hot encoding of atrget varivales\n",
    "Target_test = torch.nn.functional.one_hot(Target_test)\n",
    "Target_train = torch.nn.functional.one_hot(Target_train)"
   ]
  }
 ],
 "metadata": {
  "language_info": {
   "codemirror_mode": {
    "name": "ipython",
    "version": 3
   },
   "file_extension": ".py",
   "mimetype": "text/x-python",
   "name": "python",
   "nbconvert_exporter": "python",
   "pygments_lexer": "ipython3",
   "version": 3
  },
  "orig_nbformat": 2
 },
 "nbformat": 4,
 "nbformat_minor": 2
}